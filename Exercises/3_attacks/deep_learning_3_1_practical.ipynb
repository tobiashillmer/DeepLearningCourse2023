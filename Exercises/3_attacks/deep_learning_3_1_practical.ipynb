{
 "cells": [
  {
   "cell_type": "code",
   "execution_count": 1,
   "metadata": {
    "collapsed": true,
    "ExecuteTime": {
     "end_time": "2023-05-29T19:19:06.290284538Z",
     "start_time": "2023-05-29T19:19:03.801147053Z"
    }
   },
   "outputs": [
    {
     "name": "stdout",
     "output_type": "stream",
     "text": [
      "cuda:0\n"
     ]
    }
   ],
   "source": [
    "import statistics\n",
    "import tqdm\n",
    "import torch\n",
    "import torch.nn as nn\n",
    "import torch.nn.functional as F\n",
    "import torchvision\n",
    "from torchvision import transforms\n",
    "from torchvision.datasets import MNIST\n",
    "from torch.utils.data import DataLoader\n",
    "\n",
    "device = \"cuda:0\" if torch.cuda.is_available() else \"mps\" if torch.backends.mps.is_available() else \"cpu\"\n",
    "print(device)"
   ]
  },
  {
   "cell_type": "markdown",
   "source": [
    "### Model Setup"
   ],
   "metadata": {
    "collapsed": false
   }
  },
  {
   "cell_type": "code",
   "execution_count": 2,
   "outputs": [],
   "source": [
    "batch_size = 64\n",
    "num_classes = 10\n",
    "epochs = 5"
   ],
   "metadata": {
    "collapsed": false,
    "ExecuteTime": {
     "end_time": "2023-05-29T19:19:06.296528258Z",
     "start_time": "2023-05-29T19:19:06.292839810Z"
    }
   }
  },
  {
   "cell_type": "code",
   "execution_count": 3,
   "outputs": [],
   "source": [
    "mnist_train = MNIST(root=\"data\", download=True, transform=transforms.ToTensor(), train=True)\n",
    "\n",
    "train_loader = DataLoader(mnist_train, batch_size=batch_size, shuffle=True)\n",
    "\n",
    "mnist_test = MNIST(root=\"data\", download=True, transform=transforms.ToTensor(), train=False)\n",
    "\n",
    "test_loader = DataLoader(mnist_test)"
   ],
   "metadata": {
    "collapsed": false,
    "ExecuteTime": {
     "end_time": "2023-05-29T19:19:06.419307287Z",
     "start_time": "2023-05-29T19:19:06.300314963Z"
    }
   }
  },
  {
   "cell_type": "code",
   "execution_count": 4,
   "outputs": [],
   "source": [
    "# Feed Forward Neural Network\n",
    "\n",
    "# model architecture from: https://www.kaggle.com/code/pankajj/fashion-mnist-with-pytorch-93-accuracy\n",
    "\n",
    "class Classifier(nn.Module):\n",
    "    def __init__(self, num_classes: int, activation_function=nn.ReLU(), loss_fn=nn.CrossEntropyLoss()):\n",
    "        super().__init__()\n",
    "        self.conv_layer1 = nn.Sequential(\n",
    "            nn.Conv2d(in_channels=1, out_channels=32, kernel_size=3, padding=1),\n",
    "            nn.BatchNorm2d(32),\n",
    "            activation_function,\n",
    "            nn.MaxPool2d(kernel_size=2, stride=2)\n",
    "        )\n",
    "\n",
    "        self.conv_layer2 = nn.Sequential(\n",
    "            nn.Conv2d(in_channels=32, out_channels=64, kernel_size=3),\n",
    "            nn.BatchNorm2d(64),\n",
    "            activation_function,\n",
    "            nn.MaxPool2d(2)\n",
    "        )\n",
    "        self.flatten = nn.Flatten()\n",
    "        self.linear_relu_stack = nn.Sequential(\n",
    "            nn.Linear(64 * 6 * 6, 600),\n",
    "            nn.Dropout(0.25),\n",
    "            activation_function,\n",
    "            nn.Linear(600, 120),\n",
    "            activation_function,\n",
    "            nn.Linear(120, num_classes)  # no softmax necessary\n",
    "        )\n",
    "\n",
    "        self.num_classes = num_classes\n",
    "        self.loss_fn = loss_fn\n",
    "\n",
    "    def forward(self, x: torch.Tensor) -> torch.Tensor:\n",
    "        x = self.conv_layer1(x)\n",
    "        x = self.conv_layer2(x)\n",
    "        x = self.flatten(x)\n",
    "        logits = self.linear_relu_stack(x)\n",
    "        return logits\n",
    "\n",
    "    def train_network(self, dataloader: DataLoader, optimizer: torch.optim.Optimizer):\n",
    "        self.train()\n",
    "        losses = []\n",
    "        for batch, (X, y) in enumerate(tqdm.tqdm(dataloader)):\n",
    "            X, y = X.to(device), y.to(device)\n",
    "\n",
    "            # Compute prediction error\n",
    "            y_pred = self.forward(X)\n",
    "            y_true = F.one_hot(y, self.num_classes).type(y_pred.dtype)\n",
    "            loss = self.loss_fn(y_pred, y_true)\n",
    "\n",
    "            # Backpropagation\n",
    "            optimizer.zero_grad()\n",
    "            loss.backward()\n",
    "            optimizer.step()\n",
    "\n",
    "            losses.append(loss.item())\n",
    "        print(f\"Epoch Train Loss: {statistics.mean(losses)}\")\n",
    "\n",
    "    def test(self, dataloader: DataLoader):\n",
    "        num_batches = len(dataloader)\n",
    "        self.eval()\n",
    "        test_loss = 0\n",
    "\n",
    "        num_correct = 0\n",
    "        with torch.no_grad():\n",
    "            for X, y in dataloader:\n",
    "                X, y = X.to(device), y.to(device)\n",
    "                y_pred = self.forward(X)\n",
    "                test_loss += self.loss_fn(y_pred, F.one_hot(y, self.num_classes).type(y_pred.dtype)).item()\n",
    "                num_correct += (torch.argmax(y_pred, dim=1) == y).sum().item()\n",
    "        test_loss /= num_batches\n",
    "        accuracy = num_correct / len(dataloader.dataset)\n",
    "        print(f\"Test Error: Avg loss: {test_loss:>8f} Accuracy: {float(accuracy):>8f} \\n\")"
   ],
   "metadata": {
    "collapsed": false,
    "ExecuteTime": {
     "end_time": "2023-05-29T19:19:06.438050934Z",
     "start_time": "2023-05-29T19:19:06.425326773Z"
    }
   }
  },
  {
   "cell_type": "code",
   "execution_count": 5,
   "outputs": [
    {
     "name": "stdout",
     "output_type": "stream",
     "text": [
      "Epoch 1 -------------------------------\n"
     ]
    },
    {
     "name": "stderr",
     "output_type": "stream",
     "text": [
      "100%|██████████| 938/938 [00:23<00:00, 39.76it/s]\n"
     ]
    },
    {
     "name": "stdout",
     "output_type": "stream",
     "text": [
      "Epoch Train Loss: 0.12940817666418755\n",
      "Test Error: Avg loss: 0.042180 Accuracy: 0.986500 \n",
      "\n",
      "Epoch 2 -------------------------------\n"
     ]
    },
    {
     "name": "stderr",
     "output_type": "stream",
     "text": [
      "100%|██████████| 938/938 [00:22<00:00, 41.90it/s]\n"
     ]
    },
    {
     "name": "stdout",
     "output_type": "stream",
     "text": [
      "Epoch Train Loss: 0.051636295804720636\n",
      "Test Error: Avg loss: 0.035779 Accuracy: 0.987700 \n",
      "\n",
      "Epoch 3 -------------------------------\n"
     ]
    },
    {
     "name": "stderr",
     "output_type": "stream",
     "text": [
      "100%|██████████| 938/938 [00:21<00:00, 42.92it/s]\n"
     ]
    },
    {
     "name": "stdout",
     "output_type": "stream",
     "text": [
      "Epoch Train Loss: 0.041357545059270855\n",
      "Test Error: Avg loss: 0.026999 Accuracy: 0.991100 \n",
      "\n",
      "Epoch 4 -------------------------------\n"
     ]
    },
    {
     "name": "stderr",
     "output_type": "stream",
     "text": [
      "100%|██████████| 938/938 [00:22<00:00, 41.92it/s]\n"
     ]
    },
    {
     "name": "stdout",
     "output_type": "stream",
     "text": [
      "Epoch Train Loss: 0.031497119946099605\n",
      "Test Error: Avg loss: 0.042601 Accuracy: 0.986800 \n",
      "\n",
      "Epoch 5 -------------------------------\n"
     ]
    },
    {
     "name": "stderr",
     "output_type": "stream",
     "text": [
      "100%|██████████| 938/938 [00:21<00:00, 43.12it/s]\n"
     ]
    },
    {
     "name": "stdout",
     "output_type": "stream",
     "text": [
      "Epoch Train Loss: 0.027116872353158534\n",
      "Test Error: Avg loss: 0.033129 Accuracy: 0.990500 \n",
      "\n"
     ]
    }
   ],
   "source": [
    "model = Classifier(num_classes=num_classes).to(device)\n",
    "\n",
    "optimizer = torch.optim.Adam(model.parameters(), lr=1e-3)\n",
    "\n",
    "for t in range(epochs):\n",
    "    print(f\"Epoch {t+1} -------------------------------\")\n",
    "    model.train_network(train_loader, optimizer)\n",
    "    model.test(test_loader)"
   ],
   "metadata": {
    "collapsed": false,
    "ExecuteTime": {
     "end_time": "2023-05-29T19:22:21.420991593Z",
     "start_time": "2023-05-29T19:19:06.444669476Z"
    }
   }
  },
  {
   "cell_type": "markdown",
   "source": [
    "### Attacks"
   ],
   "metadata": {
    "collapsed": false
   }
  },
  {
   "cell_type": "code",
   "execution_count": null,
   "outputs": [],
   "source": [],
   "metadata": {
    "collapsed": false
   }
  }
 ],
 "metadata": {
  "kernelspec": {
   "display_name": "Python 3",
   "language": "python",
   "name": "python3"
  },
  "language_info": {
   "codemirror_mode": {
    "name": "ipython",
    "version": 2
   },
   "file_extension": ".py",
   "mimetype": "text/x-python",
   "name": "python",
   "nbconvert_exporter": "python",
   "pygments_lexer": "ipython2",
   "version": "2.7.6"
  }
 },
 "nbformat": 4,
 "nbformat_minor": 0
}
