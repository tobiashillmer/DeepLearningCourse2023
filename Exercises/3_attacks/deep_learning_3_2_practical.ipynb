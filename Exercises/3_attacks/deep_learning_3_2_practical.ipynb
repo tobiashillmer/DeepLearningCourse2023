{
 "cells": [
  {
   "cell_type": "code",
   "execution_count": null,
   "metadata": {
    "ExecuteTime": {
     "end_time": "2023-05-29T19:57:46.018030027Z",
     "start_time": "2023-05-29T19:57:45.521320215Z"
    },
    "collapsed": true
   },
   "outputs": [],
   "source": [
    "import statistics\n",
    "import numpy as np\n",
    "import tqdm\n",
    "\n",
    "import art\n",
    "\n",
    "import torch\n",
    "import torch.nn as nn\n",
    "import torch.nn.functional as F\n",
    "import matplotlib.pyplot as plt\n",
    "import torchvision\n",
    "from torchvision import transforms\n",
    "from torchvision.datasets import FashionMNIST\n",
    "from torch.utils.data import DataLoader\n",
    "\n",
    "\n",
    "from art.estimators.classification import PyTorchClassifier\n",
    "\n",
    "device = \"cuda:0\" if torch.cuda.is_available() else \"mps\" if torch.backends.mps.is_available() else \"cpu\"\n",
    "print(device)"
   ]
  },
  {
   "attachments": {},
   "cell_type": "markdown",
   "metadata": {
    "collapsed": false
   },
   "source": [
    "### Model Setup"
   ]
  },
  {
   "cell_type": "code",
   "execution_count": null,
   "metadata": {
    "ExecuteTime": {
     "end_time": "2023-05-29T19:35:48.298733689Z",
     "start_time": "2023-05-29T19:35:48.246756252Z"
    },
    "collapsed": false
   },
   "outputs": [],
   "source": [
    "batch_size = 64\n",
    "num_classes = 10\n",
    "epochs = 5"
   ]
  },
  {
   "cell_type": "code",
   "execution_count": null,
   "metadata": {},
   "outputs": [],
   "source": [
    "from art.utils import load_mnist\n",
    "\n",
    "(x_train, y_train), (x_test, y_test), min_pixel_value, max_pixel_value = load_mnist()\n",
    "print(x_train.shape, y_train.shape, x_test.shape, y_test.shape)\n",
    "\n",
    "\n",
    "x_train = np.transpose(x_train, (0, 3, 1, 2)).astype(np.float32)\n",
    "x_test = np.transpose(x_test, (0, 3, 1, 2)).astype(np.float32)\n",
    "print(x_train.shape, y_train.shape, x_test.shape, y_test.shape)\n",
    "print(min_pixel_value, max_pixel_value)\n",
    "#print(x_train[0][0])"
   ]
  },
  {
   "cell_type": "code",
   "execution_count": null,
   "metadata": {
    "ExecuteTime": {
     "end_time": "2023-05-29T19:35:55.988019040Z",
     "start_time": "2023-05-29T19:35:48.289001356Z"
    },
    "collapsed": false
   },
   "outputs": [],
   "source": [
    "mnist_train = FashionMNIST(root=\"data\", download=True, transform=transforms.ToTensor(), train=True)\n",
    "\n",
    "train_loader = DataLoader(mnist_train, batch_size=batch_size, shuffle=True)\n",
    "\n",
    "mnist_test = FashionMNIST(root=\"data\", download=True, transform=transforms.ToTensor(), train=False)\n",
    "\n",
    "test_loader = DataLoader(mnist_test)\n",
    "\n",
    "x_train, y_train = mnist_train.data, mnist_train.targets\n",
    "x_test, y_test = mnist_test.data, mnist_test.targets\n",
    "min_pixel_value, max_pixel_value = 0.0, 1.0\n",
    "\n",
    "x_train_lin = x_train.reshape((60000, 28*28)).type(torch.float32) / 255.0\n",
    "x_test_lin = x_test.reshape((10000, 28*28)).type(torch.float32) / 255.0\n",
    "x_train = x_train.reshape((60000, 1, 28, 28)).type(torch.float32) / 255.0\n",
    "x_test = x_test.reshape((10000, 1, 28, 28)).type(torch.float32) / 255.0\n",
    "y_train = F.one_hot(y_train, num_classes).type(torch.float32)\n",
    "y_test = F.one_hot(y_test, num_classes).type(torch.float32)\n",
    "\n",
    "print(x_train.shape, y_train.shape, x_test.shape, y_test.shape)"
   ]
  },
  {
   "cell_type": "code",
   "execution_count": null,
   "metadata": {
    "ExecuteTime": {
     "end_time": "2023-05-29T19:48:51.592212467Z",
     "start_time": "2023-05-29T19:48:51.588241594Z"
    },
    "collapsed": false
   },
   "outputs": [],
   "source": [
    "# Feed Forward Neural Network\n",
    "\n",
    "# model architecture from: https://www.kaggle.com/code/pankajj/fashion-mnist-with-pytorch-93-accuracy\n",
    "\n",
    "class ConvClassifier(nn.Module):\n",
    "    def __init__(self, num_classes: int, activation_function=nn.ReLU(), loss_fn=nn.CrossEntropyLoss()):\n",
    "        super().__init__()\n",
    "        self.conv_layer1 = nn.Sequential(\n",
    "            nn.Conv2d(in_channels=1, out_channels=32, kernel_size=3, padding=1),\n",
    "            nn.BatchNorm2d(32),\n",
    "            activation_function,\n",
    "            nn.MaxPool2d(kernel_size=2, stride=2)\n",
    "        )\n",
    "\n",
    "        self.conv_layer2 = nn.Sequential(\n",
    "            nn.Conv2d(in_channels=32, out_channels=64, kernel_size=3),\n",
    "            nn.BatchNorm2d(64),\n",
    "            activation_function,\n",
    "            nn.MaxPool2d(2)\n",
    "        )\n",
    "        self.flatten = nn.Flatten()\n",
    "        self.linear_relu_stack = nn.Sequential(\n",
    "            nn.Linear(64 * 6 * 6, 600),\n",
    "            nn.Dropout(0.25),\n",
    "            activation_function,\n",
    "            nn.Linear(600, 120),\n",
    "            activation_function,\n",
    "            nn.Linear(120, num_classes)  # no softmax necessary\n",
    "        )\n",
    "\n",
    "        self.num_classes = num_classes\n",
    "        self.loss_fn = loss_fn\n",
    "\n",
    "    def forward(self, x: torch.Tensor) -> torch.Tensor:\n",
    "        x = self.conv_layer1(x)\n",
    "        x = self.conv_layer2(x)\n",
    "        x = self.flatten(x)\n",
    "        logits = self.linear_relu_stack(x)\n",
    "        return logits\n",
    "\n",
    "class MLPClassifier(nn.Module):\n",
    "    def __init__(self, input_dim: int, num_classes: int, activation_function=nn.ReLU(), loss_fn=nn.CrossEntropyLoss()):\n",
    "        super().__init__()\n",
    "        self.fc_layers = nn.Sequential(\n",
    "            nn.Linear(in_features=input_dim, out_features=256),\n",
    "            nn.ReLU(),\n",
    "            nn.Linear(in_features=256, out_features=128),\n",
    "            nn.ReLU(),\n",
    "            nn.Linear(in_features=128, out_features=num_classes),\n",
    "        )\n",
    "\n",
    "        self.num_classes = num_classes\n",
    "        self.loss_fn = loss_fn\n",
    "\n",
    "    def forward(self, x: torch.Tensor) -> torch.Tensor:\n",
    "        return self.fc_layers(x)\n",
    "\n",
    "def train_network(model, dataloader: DataLoader, optimizer: torch.optim.Optimizer):\n",
    "    model.train()\n",
    "    losses = []\n",
    "    for batch, (X, y) in enumerate(tqdm.tqdm(dataloader)):\n",
    "        X, y = X.to(device), y.to(device)\n",
    "        # Compute prediction error\n",
    "        y_pred = model.forward(X)\n",
    "        y_true = F.one_hot(y, model.num_classes).type(y_pred.dtype)\n",
    "        loss = model.loss_fn(y_pred, y_true)\n",
    "        # Backpropagation\n",
    "        optimizer.zero_grad()\n",
    "        loss.backward()\n",
    "        optimizer.step()\n",
    "        losses.append(loss.item())\n",
    "    print(f\"Epoch Train Loss: {statistics.mean(losses)}\")\n",
    "\n",
    "def test(model, dataloader: DataLoader):\n",
    "    num_batches = len(dataloader)\n",
    "    model.eval()\n",
    "    test_loss = 0\n",
    "    num_correct = 0\n",
    "    with torch.no_grad():\n",
    "        for X, y in dataloader:\n",
    "            X, y = X.to(device), y.to(device)\n",
    "            y_pred = model.forward(X)\n",
    "            test_loss += model.loss_fn(y_pred, F.one_hot(y, model.num_classes).type(y_pred.dtype)).item()\n",
    "            num_correct += (torch.argmax(y_pred, dim=1) == y).sum().item()\n",
    "    test_loss /= num_batches\n",
    "    accuracy = num_correct / len(dataloader.dataset)\n",
    "    print(f\"Test Error: Avg loss: {test_loss:>8f} Accuracy: {float(accuracy):>8f} \\n\")\n",
    "\n",
    "def test_art(model, dataloader: DataLoader, criterion, num_classes):\n",
    "    num_batches = len(dataloader)\n",
    "    #model.eval()\n",
    "    test_loss = 0\n",
    "    num_correct = 0\n",
    "    with torch.no_grad(): \n",
    "        for X, y in dataloader:\n",
    "            X, y = X.to(device), y.to(device)\n",
    "            y_pred = torch.from_numpy(model.predict(X, training_mode=False))\n",
    "            test_loss += criterion(y_pred, F.one_hot(y, num_classes).type(y_pred.dtype)).item()\n",
    "            num_correct += (torch.argmax(y_pred, dim=1) == y).sum().item()\n",
    "    test_loss /= num_batches\n",
    "    accuracy = num_correct / len(dataloader.dataset)\n",
    "    print(f\"Test Error: Avg loss: {test_loss:>8f} Accuracy: {float(accuracy):>8f} \\n\")"
   ]
  },
  {
   "cell_type": "code",
   "execution_count": null,
   "metadata": {
    "ExecuteTime": {
     "end_time": "2023-05-29T19:39:13.927307639Z",
     "start_time": "2023-05-29T19:36:14.465403565Z"
    },
    "collapsed": false
   },
   "outputs": [],
   "source": [
    "model = ConvClassifier(num_classes=num_classes).to(device)\n",
    "\n",
    "optimizer = torch.optim.Adam(model.parameters(), lr=1e-3)\n",
    "\n",
    "# for t in range(epochs):\n",
    "#     print(f\"Epoch {t+1} -------------------------------\")\n",
    "#     train_network(model, train_loader, optimizer)\n",
    "#     test(model, test_loader)\n",
    "\n",
    "criterion = nn.CrossEntropyLoss()\n",
    "\n",
    "classifier = PyTorchClassifier(\n",
    "    model=model,\n",
    "    clip_values=(min_pixel_value, max_pixel_value),\n",
    "    loss=criterion,\n",
    "    optimizer=optimizer,\n",
    "    input_shape=(1, 28, 28),\n",
    "    nb_classes=num_classes,\n",
    ")"
   ]
  },
  {
   "cell_type": "code",
   "execution_count": null,
   "metadata": {},
   "outputs": [],
   "source": [
    "classifier.fit(x_train, y_train, batch_size=batch_size, nb_epochs=3)"
   ]
  },
  {
   "cell_type": "code",
   "execution_count": null,
   "metadata": {},
   "outputs": [],
   "source": [
    "predictions = classifier.predict(x_test)\n",
    "accuracy = np.sum(np.argmax(predictions, axis=1) == np.argmax(y_test, axis=1)) #/ len(y_test)\n",
    "print(accuracy)\n",
    "print(\"Accuracy on benign test examples: {}%\".format(accuracy * 100))"
   ]
  },
  {
   "cell_type": "code",
   "execution_count": null,
   "metadata": {},
   "outputs": [],
   "source": [
    "test_art(classifier, test_loader, criterion, num_classes)"
   ]
  },
  {
   "cell_type": "code",
   "execution_count": null,
   "metadata": {
    "ExecuteTime": {
     "end_time": "2023-05-29T19:52:05.693354728Z",
     "start_time": "2023-05-29T19:48:53.865238038Z"
    },
    "collapsed": false
   },
   "outputs": [],
   "source": [
    "linear_model = MLPClassifier(input_dim=28*28, num_classes=num_classes).to(device)\n",
    "optimizer = torch.optim.Adam(model.parameters(), lr=1e-3)\n",
    "\n",
    "# for t in range(epochs):\n",
    "#     print(f\"Epoch {t+1} -------------------------------\")\n",
    "#     train_network(model, train_loader, optimizer)\n",
    "#     test(model, test_loader)\n",
    "\n",
    "criterion = nn.CrossEntropyLoss()\n",
    "\n",
    "linear_classifier = PyTorchClassifier(\n",
    "    model=linear_model,\n",
    "    clip_values=(min_pixel_value, max_pixel_value),\n",
    "    loss=criterion,\n",
    "    optimizer=optimizer,\n",
    "    input_shape=(28*28),\n",
    "    nb_classes=num_classes,\n",
    ")"
   ]
  },
  {
   "cell_type": "code",
   "execution_count": null,
   "metadata": {},
   "outputs": [],
   "source": [
    "linear_classifier.fit(x_train_lin, y_train, batch_size=batch_size, nb_epochs=3)"
   ]
  },
  {
   "cell_type": "code",
   "execution_count": null,
   "metadata": {},
   "outputs": [],
   "source": [
    "test_art(linear_classifier, test_loader, criterion, num_classes)"
   ]
  },
  {
   "attachments": {},
   "cell_type": "markdown",
   "metadata": {
    "collapsed": false
   },
   "source": [
    "### Attacks"
   ]
  },
  {
   "cell_type": "code",
   "execution_count": null,
   "metadata": {},
   "outputs": [],
   "source": [
    "def showImage(image):\n",
    "    plt.imshow(image[0], cmap='gray', interpolation='none')\n",
    "    plt.show()\n",
    "showImage(x_test[0])"
   ]
  },
  {
   "cell_type": "code",
   "execution_count": null,
   "metadata": {
    "ExecuteTime": {
     "end_time": "2023-05-29T19:58:31.776135246Z",
     "start_time": "2023-05-29T19:58:31.567111043Z"
    },
    "collapsed": false
   },
   "outputs": [],
   "source": [
    "def plot_first_samples(images, labels, label_list=mnist_train.classes):\n",
    "    rows = 8\n",
    "    columns = 16\n",
    "    fig = plt.figure(figsize=(10, 10))\n",
    "    for i, (image, label) in enumerate(zip(images, labels)):\n",
    "\n",
    "        fig.add_subplot(rows, columns, 2*i+1)\n",
    "        plt.axis('off')\n",
    "        plt.title(label_list[torch.argmax(label).item()])\n",
    "        plt.imshow(image[0].detach().numpy(), cmap='gray')\n",
    "\n",
    "#plot_first_samples(x_test[0:64], y_test[0:64])"
   ]
  },
  {
   "cell_type": "code",
   "execution_count": null,
   "metadata": {},
   "outputs": [],
   "source": [
    "def plot_classified_first_samples(X, y, model, label_list=mnist_train.classes):\n",
    "    rows = 8\n",
    "    columns = 8\n",
    "    fig = plt.figure(figsize=(10, 10), layout=\"constrained\")\n",
    "\n",
    "    y_pred = torch.argmax(model.forward(X), dim=1).to('cpu')\n",
    "    for i, (image, true_label, predicted_label) in enumerate(zip(X, y, y_pred)):\n",
    "        fig.add_subplot(rows, columns, i+1)\n",
    "        plt.axis('off')\n",
    "        plt.title(label_list[predicted_label.item()] + (\"\\nCorrect: \" + label_list[true_label] if predicted_label != true_label else \"\"),\n",
    "                    color=\"green\" if predicted_label == true_label else \"red\",\n",
    "                    size=\"small\")\n",
    "        plt.imshow(image[0].detach().numpy(), cmap='gray')\n",
    "\n",
    "def plot_both(X, X_p, y, label_list=mnist_train.classes):\n",
    "    rows = 4\n",
    "    columns = 8\n",
    "    fig = plt.figure(figsize=(10, 10), layout=\"constrained\")\n",
    "    for i, (image, image_p, label) in enumerate(zip(X, X_p, y)):\n",
    "        fig.add_subplot(rows, columns, 2*i+1)\n",
    "        plt.axis('off')\n",
    "        plt.title(label_list[label.item()])\n",
    "        plt.imshow(image[0].detach().numpy(), cmap='gray')\n",
    "\n",
    "        fig.add_subplot(rows, columns, 2*i+2)\n",
    "        plt.axis('off')\n",
    "        #plt.title(\"R\")\n",
    "        plt.imshow(image_p[0].detach().numpy(), cmap='gray')"
   ]
  },
  {
   "cell_type": "code",
   "execution_count": 162,
   "metadata": {},
   "outputs": [],
   "source": [
    "#from art.attacks.evasion import UniversalPerturbation\n",
    "attack = art.attacks.evasion.UniversalPerturbation(classifier, delta = 0.5)\n",
    "pertubations = attack.generate(x_test[0:64].numpy(), y_test[0:64].numpy())\n",
    "show_image(attack.noise)"
   ]
  },
  {
   "cell_type": "code",
   "execution_count": null,
   "metadata": {},
   "outputs": [],
   "source": [
    "plot_classified_first_samples(x_test[0:64], torch.argmax(y_test[0:64], dim=1), model)"
   ]
  },
  {
   "cell_type": "code",
   "execution_count": null,
   "metadata": {},
   "outputs": [],
   "source": [
    "plot_both(x_test[0:4], torch.from_numpy(pertubations[0:4]), torch.argmax(y_test[0:4], dim=1))"
   ]
  },
  {
   "cell_type": "code",
   "execution_count": null,
   "metadata": {},
   "outputs": [],
   "source": [
    "plot_classified_first_samples(torch.from_numpy(pertubations[0:64]), torch.argmax(y_test[0:64], dim=1), model)"
   ]
  }
 ],
 "metadata": {
  "kernelspec": {
   "display_name": "Python 3",
   "language": "python",
   "name": "python3"
  },
  "language_info": {
   "codemirror_mode": {
    "name": "ipython",
    "version": 3
   },
   "file_extension": ".py",
   "mimetype": "text/x-python",
   "name": "python",
   "nbconvert_exporter": "python",
   "pygments_lexer": "ipython3",
   "version": "3.10.10"
  }
 },
 "nbformat": 4,
 "nbformat_minor": 0
}
